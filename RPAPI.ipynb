{
 "metadata": {
  "name": "",
  "signature": "sha256:f60be1b11eca343fa7c14d320804b03ed2524b53dddfd9639ff3a917da655890"
 },
 "nbformat": 3,
 "nbformat_minor": 0,
 "worksheets": [
  {
   "cells": [
    {
     "cell_type": "code",
     "collapsed": false,
     "input": [
      "class ResearchPages:\n",
      "    \n",
      "    def __init__(self, username,\n",
      "                 reponame, \n",
      "                 gh_auth=\"\", \n",
      "                 gh_secret=\"\",\n",
      "                 folders=[\"_data\",\"_posts\"],\n",
      "                 branch=\"gh-pages\",\n",
      "                 sha=\"\"):\n",
      "        \n",
      "        from github import Github\n",
      "        print reponame\n",
      "        self.username = username;\n",
      "        self.reponame = reponame;\n",
      "        self.pages = dict();\n",
      "        self.folders = folders;\n",
      "        self.branch = branch;\n",
      "        \n",
      "        if gh_auth and gh_secret:\n",
      "            # Authenticated request\n",
      "            self.gh = Github(client_id=gh_auth,client_secret=gh_secret)\n",
      "        else:\n",
      "            # Unauthenticated request\n",
      "            self.gh = Github()\n",
      "            \n",
      "        if not sha:\n",
      "            self.sha = self.gh.get_repo(self.username + \"/\"+self.reponame).get_branch(self.branch).commit.sha\n",
      "        \n",
      "        self.GetFolders();\n",
      "        self.GetFiles();\n",
      "        \n",
      "        self.CycleFiles();\n",
      "            \n",
      "    def GetFiles( self ):\n",
      "        for directories in self.pages:\n",
      "            sha = self.pages[directories][\"sha\"]\n",
      "            tree = self.gh.get_repo(self.username + \"/\"+self.reponame).get_git_tree(sha)\n",
      "            for files in tree.tree:\n",
      "                self[directories][files.path] = dict();\n",
      "                self[directories][files.path][\"sha\"] = files.sha;\n",
      "                self[directories][files.path][\"type\"] = files.type;\n",
      "\n",
      "    def GetFolders( self ):\n",
      "        # Use Git Tree to get contents\n",
      "        tree = self.gh.get_repo(self.username + \"/\"+self.reponame).get_git_tree(self.sha)\n",
      "\n",
      "        for folder in tree.tree:\n",
      "            for keyfolder in self.folders:\n",
      "                if folder.path == keyfolder:\n",
      "                    self[keyfolder] = dict()\n",
      "                    self[keyfolder][\"sha\"] = folder.sha\n",
      "                    self[keyfolder][\"type\"] = folder.type\n",
      "                    \n",
      "\n",
      "    def __setitem__(self, key, item ):\n",
      "        self.pages[key] = item\n",
      "\n",
      "    def __getitem__(self, key):\n",
      "        return self.pages[key]\n",
      "    \n",
      "    def CycleFiles( self ):\n",
      "        \n",
      "        for collections in self.pages:\n",
      "            print self.pages[collections][\"nav-bar.yml\"]\n",
      "                for files in self.pages[collections]:\n",
      "                    print files\n",
      "\n",
      "                    if files!=\"sha\" and file!=\"type\":\n",
      "                        print collections\n",
      "                        print files\n",
      "\n",
      "                        if self.pages[collections][files][\"type\"] == \"tree\":\n",
      "                            print \"tree\"\n",
      "                        elif self.pages[collections][files][\"type\"] == \"blob\":\n",
      "                            print \"blob\"\n"
     ],
     "language": "python",
     "metadata": {},
     "outputs": [],
     "prompt_number": 250
    },
    {
     "cell_type": "code",
     "collapsed": false,
     "input": [
      "rp = ResearchPages(username, repo, \n",
      "                   gh_auth=os.environ[\"GH_AUTH\"], \n",
      "                   gh_secret=os.environ[\"GH_SECRET\"], \n",
      "                   folders=[\"_data\"])\n"
     ],
     "language": "python",
     "metadata": {},
     "outputs": [
      {
       "output_type": "stream",
       "stream": "stdout",
       "text": [
        "SpatialStatisticsFFT\n",
        "{'sha': u'ed11e569fd495438299dc160f000ece4588c37e2', 'type': u'blob'}"
       ]
      },
      {
       "output_type": "stream",
       "stream": "stdout",
       "text": [
        "\n",
        "nav-bar.yml\n",
        "_data\n",
        "nav-bar.yml\n",
        "blob\n",
        "sha\n",
        "type\n",
        "_data\n",
        "type\n"
       ]
      },
      {
       "ename": "TypeError",
       "evalue": "string indices must be integers",
       "output_type": "pyerr",
       "traceback": [
        "\u001b[0;31m---------------------------------------------------------------------------\u001b[0m\n\u001b[0;31mTypeError\u001b[0m                                 Traceback (most recent call last)",
        "\u001b[0;32m<ipython-input-251-65e38ded1796>\u001b[0m in \u001b[0;36m<module>\u001b[0;34m()\u001b[0m\n\u001b[1;32m      2\u001b[0m                    \u001b[0mgh_auth\u001b[0m\u001b[0;34m=\u001b[0m\u001b[0mos\u001b[0m\u001b[0;34m.\u001b[0m\u001b[0menviron\u001b[0m\u001b[0;34m[\u001b[0m\u001b[0;34m\"GH_AUTH\"\u001b[0m\u001b[0;34m]\u001b[0m\u001b[0;34m,\u001b[0m\u001b[0;34m\u001b[0m\u001b[0m\n\u001b[1;32m      3\u001b[0m                    \u001b[0mgh_secret\u001b[0m\u001b[0;34m=\u001b[0m\u001b[0mos\u001b[0m\u001b[0;34m.\u001b[0m\u001b[0menviron\u001b[0m\u001b[0;34m[\u001b[0m\u001b[0;34m\"GH_SECRET\"\u001b[0m\u001b[0;34m]\u001b[0m\u001b[0;34m,\u001b[0m\u001b[0;34m\u001b[0m\u001b[0m\n\u001b[0;32m----> 4\u001b[0;31m                    folders=[\"_data\"])\n\u001b[0m",
        "\u001b[0;32m<ipython-input-250-e277be5b21dc>\u001b[0m in \u001b[0;36m__init__\u001b[0;34m(self, username, reponame, gh_auth, gh_secret, folders, branch, sha)\u001b[0m\n\u001b[1;32m     30\u001b[0m         \u001b[0mself\u001b[0m\u001b[0;34m.\u001b[0m\u001b[0mGetFiles\u001b[0m\u001b[0;34m(\u001b[0m\u001b[0;34m)\u001b[0m\u001b[0;34m;\u001b[0m\u001b[0;34m\u001b[0m\u001b[0m\n\u001b[1;32m     31\u001b[0m \u001b[0;34m\u001b[0m\u001b[0m\n\u001b[0;32m---> 32\u001b[0;31m         \u001b[0mself\u001b[0m\u001b[0;34m.\u001b[0m\u001b[0mCycleFiles\u001b[0m\u001b[0;34m(\u001b[0m\u001b[0;34m)\u001b[0m\u001b[0;34m;\u001b[0m\u001b[0;34m\u001b[0m\u001b[0m\n\u001b[0m\u001b[1;32m     33\u001b[0m \u001b[0;34m\u001b[0m\u001b[0m\n\u001b[1;32m     34\u001b[0m     \u001b[0;32mdef\u001b[0m \u001b[0mGetFiles\u001b[0m\u001b[0;34m(\u001b[0m \u001b[0mself\u001b[0m \u001b[0;34m)\u001b[0m\u001b[0;34m:\u001b[0m\u001b[0;34m\u001b[0m\u001b[0m\n",
        "\u001b[0;32m<ipython-input-250-e277be5b21dc>\u001b[0m in \u001b[0;36mCycleFiles\u001b[0;34m(self)\u001b[0m\n\u001b[1;32m     71\u001b[0m                         \u001b[0;32mprint\u001b[0m \u001b[0mfiles\u001b[0m\u001b[0;34m\u001b[0m\u001b[0m\n\u001b[1;32m     72\u001b[0m \u001b[0;34m\u001b[0m\u001b[0m\n\u001b[0;32m---> 73\u001b[0;31m                         \u001b[0;32mif\u001b[0m \u001b[0mself\u001b[0m\u001b[0;34m.\u001b[0m\u001b[0mpages\u001b[0m\u001b[0;34m[\u001b[0m\u001b[0mcollections\u001b[0m\u001b[0;34m]\u001b[0m\u001b[0;34m[\u001b[0m\u001b[0mfiles\u001b[0m\u001b[0;34m]\u001b[0m\u001b[0;34m[\u001b[0m\u001b[0;34m\"type\"\u001b[0m\u001b[0;34m]\u001b[0m \u001b[0;34m==\u001b[0m \u001b[0;34m\"tree\"\u001b[0m\u001b[0;34m:\u001b[0m\u001b[0;34m\u001b[0m\u001b[0m\n\u001b[0m\u001b[1;32m     74\u001b[0m                             \u001b[0;32mprint\u001b[0m \u001b[0;34m\"tree\"\u001b[0m\u001b[0;34m\u001b[0m\u001b[0m\n\u001b[1;32m     75\u001b[0m                         \u001b[0;32melif\u001b[0m \u001b[0mself\u001b[0m\u001b[0;34m.\u001b[0m\u001b[0mpages\u001b[0m\u001b[0;34m[\u001b[0m\u001b[0mcollections\u001b[0m\u001b[0;34m]\u001b[0m\u001b[0;34m[\u001b[0m\u001b[0mfiles\u001b[0m\u001b[0;34m]\u001b[0m\u001b[0;34m[\u001b[0m\u001b[0;34m\"type\"\u001b[0m\u001b[0;34m]\u001b[0m \u001b[0;34m==\u001b[0m \u001b[0;34m\"blob\"\u001b[0m\u001b[0;34m:\u001b[0m\u001b[0;34m\u001b[0m\u001b[0m\n",
        "\u001b[0;31mTypeError\u001b[0m: string indices must be integers"
       ]
      }
     ],
     "prompt_number": 251
    }
   ],
   "metadata": {}
  }
 ]
}