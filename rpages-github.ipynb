{
 "metadata": {
  "name": "",
  "signature": "sha256:bed07c4a6255ee9a97d4bf5c0555f5b9391db45a1e634351376a86c741460fea"
 },
 "nbformat": 3,
 "nbformat_minor": 0,
 "worksheets": [
  {
   "cells": [
    {
     "cell_type": "markdown",
     "metadata": {},
     "source": [
      "# Github Endpoints Function\n",
      "\n",
      "\n",
      "## Services\n",
      "\n",
      "* ``api`` - Make a request to the [Github Api](https://developer.github.com/v3/)\n",
      "* ``repo`` - Make an API request for the repository information.\n",
      "* ``history`` - List commit history for a specific file\n",
      "* ``blob`` - Download a raw blob of information from Github that is serialized into Python variables\n",
      "* ``fm`` - Scrape Front Matter from a Jekyll Post and serialize into Python variables\n",
      "* ``noembed`` - A service that provides access to a lot of web page endpoints\n",
      "\n",
      "## Rules\n",
      "\n",
      "The machine readable data in URL endpoints in extracted by ``rpages.py``.  The code has some tailored ideas for github and some general purpose solutions provided by noembed.  \n",
      "For most of the services, the URL endpoints are expected to be ``json``, ``yaml``, or Jekyll posts with ``yaml`` or ``json`` front matter.  The ``api`` uses the github api endpoints."
     ]
    },
    {
     "cell_type": "code",
     "collapsed": false,
     "input": [
      "import rpages "
     ],
     "language": "python",
     "metadata": {},
     "outputs": [],
     "prompt_number": 30
    },
    {
     "cell_type": "markdown",
     "metadata": {},
     "source": [
      "## Request Repository Information from Repository Link"
     ]
    },
    {
     "cell_type": "code",
     "collapsed": false,
     "input": [
      "data = rpages.github('https://github.com/Materials-Informatics-Lab/researchp-tools', service='repo')\n",
      "print data"
     ],
     "language": "python",
     "metadata": {},
     "outputs": [
      {
       "output_type": "stream",
       "stream": "stdout",
       "text": [
        "archive_url          https://api.github.com/repos/Materials-Informa...\n",
        "assignees_url        https://api.github.com/repos/Materials-Informa...\n",
        "blobs_url            https://api.github.com/repos/Materials-Informa...\n",
        "branches_url         https://api.github.com/repos/Materials-Informa...\n",
        "clone_url            https://github.com/Materials-Informatics-Lab/r...\n",
        "collaborators_url    https://api.github.com/repos/Materials-Informa...\n",
        "comments_url         https://api.github.com/repos/Materials-Informa...\n",
        "commits_url          https://api.github.com/repos/Materials-Informa...\n",
        "compare_url          https://api.github.com/repos/Materials-Informa...\n",
        "contents_url         https://api.github.com/repos/Materials-Informa...\n",
        "contributors_url     https://api.github.com/repos/Materials-Informa...\n",
        "created_at                                        2014-09-05T21:11:55Z\n",
        "default_branch                                                  matlab\n",
        "description                     Utilities to work with research pages.\n",
        "downloads_url        https://api.github.com/repos/Materials-Informa...\n",
        "...\n",
        "ssh_url              git@github.com:Materials-Informatics-Lab/resea...\n",
        "stargazers_count                                                     0\n",
        "stargazers_url       https://api.github.com/repos/Materials-Informa...\n",
        "statuses_url         https://api.github.com/repos/Materials-Informa...\n",
        "subscribers_count                                                    3\n",
        "subscribers_url      https://api.github.com/repos/Materials-Informa...\n",
        "subscription_url     https://api.github.com/repos/Materials-Informa...\n",
        "svn_url              https://github.com/Materials-Informatics-Lab/r...\n",
        "tags_url             https://api.github.com/repos/Materials-Informa...\n",
        "teams_url            https://api.github.com/repos/Materials-Informa...\n",
        "trees_url            https://api.github.com/repos/Materials-Informa...\n",
        "updated_at                                        2014-09-05T21:12:52Z\n",
        "url                  https://api.github.com/repos/Materials-Informa...\n",
        "watchers                                                             0\n",
        "watchers_count                                                       0\n",
        "Length: 70, dtype: object\n"
       ]
      }
     ],
     "prompt_number": 24
    },
    {
     "cell_type": "code",
     "collapsed": false,
     "input": [
      "import frontmatter\n",
      "from urlparse import urlsplit\n",
      "import urllib2\n",
      "url = 'https://github.com/Materials-Informatics-Lab/Materials-Informatics-Lab.github.io/blob/master/_posts/2014-09-10-Hazelnut-Data.html'\n",
      "url = url.replace( '/blob','')\n",
      "parsed = urlsplit( url )\n",
      "parsed = parsed._replace(netloc='raw.githubusercontent.com')\n",
      "print parsed.geturl()\n",
      "\n",
      "page = urllib2.urlopen(parsed.geturl())\n",
      "data = frontmatter.load(page).metadata\n",
      "page.close()\n",
      "print data.keys()"
     ],
     "language": "python",
     "metadata": {},
     "outputs": [
      {
       "output_type": "stream",
       "stream": "stdout",
       "text": [
        "https://raw.githubusercontent.com/Materials-Informatics-Lab/Materials-Informatics-Lab.github.io/master/_posts/2014-09-10-Hazelnut-Data.html\n",
        "['tagline', 'title', 'layout', 'gist', 'hazelnut']"
       ]
      },
      {
       "output_type": "stream",
       "stream": "stdout",
       "text": [
        "\n"
       ]
      }
     ],
     "prompt_number": 66
    },
    {
     "cell_type": "markdown",
     "metadata": {},
     "source": [
      "## Simple API Request"
     ]
    },
    {
     "cell_type": "code",
     "collapsed": false,
     "input": [
      "data = rpages.github('https://api.github.com/repos/Materials-Informatics-Lab/research-pages', service ='api')\n",
      "print data"
     ],
     "language": "python",
     "metadata": {},
     "outputs": [
      {
       "output_type": "stream",
       "stream": "stdout",
       "text": [
        "archive_url          https://api.github.com/repos/Materials-Informa...\n",
        "assignees_url        https://api.github.com/repos/Materials-Informa...\n",
        "blobs_url            https://api.github.com/repos/Materials-Informa...\n",
        "branches_url         https://api.github.com/repos/Materials-Informa...\n",
        "clone_url            https://github.com/Materials-Informatics-Lab/r...\n",
        "collaborators_url    https://api.github.com/repos/Materials-Informa...\n",
        "comments_url         https://api.github.com/repos/Materials-Informa...\n",
        "commits_url          https://api.github.com/repos/Materials-Informa...\n",
        "compare_url          https://api.github.com/repos/Materials-Informa...\n",
        "contents_url         https://api.github.com/repos/Materials-Informa...\n",
        "contributors_url     https://api.github.com/repos/Materials-Informa...\n",
        "created_at                                        2014-08-22T13:17:47Z\n",
        "default_branch                                                gh-pages\n",
        "description          Research pages are opinions onto Github pages ...\n",
        "downloads_url        https://api.github.com/repos/Materials-Informa...\n",
        "...\n",
        "ssh_url              git@github.com:Materials-Informatics-Lab/resea...\n",
        "stargazers_count                                                     0\n",
        "stargazers_url       https://api.github.com/repos/Materials-Informa...\n",
        "statuses_url         https://api.github.com/repos/Materials-Informa...\n",
        "subscribers_count                                                    3\n",
        "subscribers_url      https://api.github.com/repos/Materials-Informa...\n",
        "subscription_url     https://api.github.com/repos/Materials-Informa...\n",
        "svn_url              https://github.com/Materials-Informatics-Lab/r...\n",
        "tags_url             https://api.github.com/repos/Materials-Informa...\n",
        "teams_url            https://api.github.com/repos/Materials-Informa...\n",
        "trees_url            https://api.github.com/repos/Materials-Informa...\n",
        "updated_at                                        2014-09-08T16:58:10Z\n",
        "url                  https://api.github.com/repos/Materials-Informa...\n",
        "watchers                                                             0\n",
        "watchers_count                                                       0\n",
        "Length: 70, dtype: object\n"
       ]
      }
     ],
     "prompt_number": 25
    },
    {
     "cell_type": "markdown",
     "metadata": {},
     "source": [
      "## Blobs\n",
      "\n",
      "### ``JSON`` blobs"
     ]
    },
    {
     "cell_type": "code",
     "collapsed": false,
     "input": [
      "data = rpages.github('https://github.com/Materials-Informatics-Lab/research-pages/blob/gh-pages/_data/jexample.json')\n",
      "print data"
     ],
     "language": "python",
     "metadata": {},
     "outputs": [
      {
       "output_type": "stream",
       "stream": "stdout",
       "text": [
        "author            [{u'name': u'Tony Fast'}, {u'email': u'tony.fa...\n",
        "description       Segmented $\\alpha&-$\\beta$ Titanium micrograph...\n",
        "flickr            {u'set': u'https://www.flickr.com/photos/tonyf...\n",
        "gist              https://gist.github.com/tonyfast/afafb762798e9...\n",
        "tags                                   [Experiment1, AnalysisMagic]\n",
        "thumb             https://farm3.staticflickr.com/2689/1297281543...\n",
        "units                                        [{u'y': 10, u'x': 10}]\n",
        "volumefraction                                            0.6020642\n",
        "dtype: object\n"
       ]
      }
     ],
     "prompt_number": 26
    },
    {
     "cell_type": "markdown",
     "metadata": {},
     "source": [
      "### ``YAML`` "
     ]
    },
    {
     "cell_type": "code",
     "collapsed": false,
     "input": [
      "data = rpages.github('https://github.com/Materials-Informatics-Lab/Materials-Informatics-Lab.github.io/blob/master/_data/example.yaml')\n",
      "print data"
     ],
     "language": "python",
     "metadata": {},
     "outputs": [
      {
       "output_type": "stream",
       "stream": "stdout",
       "text": [
        "{'gist': 'https://gist.github.com/tonyfast/afafb762798e9204bac4', 'description': 'Segmented $\\\\alpha&-$\\\\beta$ Titanium micrographs from Pete Collins at UNT.\\n', 'volumefraction': 0.60206419148851, 'tags': ['Experiment1', 'AnalysisMagic'], 'author': [{'name': 'Tony Fast'}, {'email': 'tony.fast@gmail.com'}], 'units': [{'y': 10, 'x': 10}], 'flickr': {'set': 'https://www.flickr.com/photos/tonyfast/sets/72157641959260094/', 'view': 'https://www.flickr.com/photos/tonyfast/12972815434/in/set-72157641959260094'}, 'thumb': 'https://farm3.staticflickr.com/2689/12972815434_734b24ef1d_q.jpg'}\n"
       ]
      }
     ],
     "prompt_number": 27
    },
    {
     "cell_type": "markdown",
     "metadata": {},
     "source": [
      "### Front Matter"
     ]
    },
    {
     "cell_type": "code",
     "collapsed": false,
     "input": [
      "url = 'https://github.com/Materials-Informatics-Lab/Materials-Informatics-Lab.github.io/blob/master/_posts/2014-09-10-Hazelnut-Data.html'\n",
      "data = rpages.github( url = url, \n",
      "                     service = 'fm' )"
     ],
     "language": "python",
     "metadata": {},
     "outputs": [
      {
       "output_type": "stream",
       "stream": "stdout",
       "text": [
        "{'tagline': 'An example post containing micro-ct datasets of phase in hazelnut shells.\\n', 'title': 'Hazelnut Dataset', 'layout': 'post', 'gist': 'tonyfast/797c6a7e8db48da14259', 'hazelnut': {'download': 'https://dl.dropboxusercontent.com/u/22455492/natural-3d/macadamia.mat', 'analytics': {'volumefraction': 0.883088032}, 'flickr': {'set': 'https://www.flickr.com/photos/tonyfast/sets/72157647401996846/'}}}\n"
       ]
      }
     ],
     "prompt_number": 3
    },
    {
     "cell_type": "markdown",
     "metadata": {},
     "source": [
      "## Noembed\n",
      "\n",
      "*what is not embed*\n",
      "\n",
      "### Embed.ly\n",
      "\n"
     ]
    },
    {
     "cell_type": "code",
     "collapsed": false,
     "input": [
      "from IPython.display import HTML\n",
      "\n",
      "sha = '026880df599eefafbfc03f5b38ab42c7e68b257b'\n",
      "url = 'https://github.com/Materials-Informatics-Lab/research-pages/commit/' + sha\n",
      "data = rpages.github( url = url, \n",
      "                     service = 'noembed' )\n",
      "\n",
      "print data\n",
      "\n",
      "HTML(data['html'])"
     ],
     "language": "python",
     "metadata": {},
     "outputs": [
      {
       "output_type": "stream",
       "stream": "stdout",
       "text": [
        "html             \\n<div class=\"noembed-embed \">\\n  <div class=\"...\n",
        "provider_name                                        Github Commit\n",
        "title            Update 2014-09-10-Hazelnut-Data.html by Tony Fast\n",
        "type                                                          rich\n",
        "url              https://github.com/Materials-Informatics-Lab/r...\n",
        "dtype: object\n"
       ]
      },
      {
       "html": [
        "\n",
        "<div class=\"noembed-embed \">\n",
        "  <div class=\"noembed-wrapper\">\n",
        "    \n",
        "<div class=\"noembed-embed-inner noembed-github\">\n",
        "  \n",
        "<p class=\"github-description\">\n",
        "  \n",
        "  <a href=\"https://api.github.com/users/tonyfast\" class=\"github-user\">tonyfast</a>\n",
        "  \n",
        "  <a href=\"https://api.github.com/repos/Materials-Informatics-Lab/research-pages/git/commits/026880df599eefafbfc03f5b38ab42c7e68b257b\">Update 2014-09-10-Hazelnut-Data.html</a>\n",
        "</p>\n",
        "<div class=\"github-change\">\n",
        "  <a href=\"https://github.com/Materials-Informatics-Lab/research-pages/blob/026880df599eefafbfc03f5b38ab42c7e68b257b/_posts/2014-09-10-Hazelnut-Data.html\" target=\"_blank\" onclick='var f=this.parentNode.getElementsByClassName(\"github-file\")[0];f.className=\"github-file\"+(f.className.match(/visible/)?\"\":\" visible\");event.preventDefault();'>_posts/2014-09-10-Hazelnut-Data.html</a>\n",
        "  <span class=\"github-stats\">\n",
        "    <span class=\"github-addition\">+1</span>\n",
        "    <span class=\"github-deletion\">-3</span>\n",
        "  </span>\n",
        "  <div class=\"github-file\">\n",
        "    <table class=\"highlighttable\"><tr><td class=\"linenos\"><div class=\"linenodiv\"><pre>1\n",
        "2\n",
        "3\n",
        "4\n",
        "5\n",
        "6\n",
        "7\n",
        "8</pre></div></td><td class=\"code\"><div class=\"highlight\"><pre><span class=\"gu\">@@ -10,6 +10,4 @@</span>\n",
        " \n",
        " This Hazelnut dataset was created by Micro-CT and Segmented by some guy.\n",
        " \n",
        "<span class=\"gd\">-[Public Download on Dropbox]({{page.data.hazelnut.download}})</span>\n",
        "<span class=\"gd\">-</span>\n",
        "<span class=\"gd\">-{{page.data.hazelnut}}</span>\n",
        "<span class=\"gi\">+[Public Download on Dropbox]({{page.hazelnut.download}})</span>\n",
        "</pre></div>\n",
        "</td></tr></table>\n",
        "  </div>\n",
        "</div>\n",
        "\n",
        "</div>\n",
        "\n",
        "    <table class=\"noembed-meta-info\">\n",
        "      <tr>\n",
        "        <td class=\"favicon\"><img src=\"https://noembed.com/favicon/Github.png\"></td>\n",
        "        <td>Github Commit</td>\n",
        "        <td align=\"right\">\n",
        "          <a title=\"https://github.com/Materials-Informatics-Lab/research-pages/commit/026880df599eefafbfc03f5b38ab42c7e68b257b\" href=\"https://github.com/Materials-Informatics-Lab/research-pages/commit/026880df599eefafbfc03f5b38ab42c7e68b257b\">https://github.com/Materials-Informatics-Lab/resea</a>\n",
        "        </td>\n",
        "      </tr>\n",
        "    </table>\n",
        "  </div>\n",
        "</div>\n"
       ],
       "metadata": {},
       "output_type": "pyout",
       "prompt_number": 7,
       "text": [
        "<IPython.core.display.HTML at 0x10a4d9350>"
       ]
      }
     ],
     "prompt_number": 7
    },
    {
     "cell_type": "code",
     "collapsed": false,
     "input": [
      "# Flickr \n",
      "url = 'https://www.flickr.com/photos/tonyfast/15034428947/'\n",
      "data = rpages.noembed( url = url )\n",
      "\n",
      "print data"
     ],
     "language": "python",
     "metadata": {},
     "outputs": [
      {
       "output_type": "stream",
       "stream": "stdout",
       "text": [
        "author_name                                                    tonyfast\n",
        "author_url                      https://www.flickr.com/photos/tonyfast/\n",
        "cache_age                                                          3600\n",
        "height                                                              640\n",
        "html                  \\n<div class=\"noembed-embed \">\\n  <div class=\"...\n",
        "license                                             All Rights Reserved\n",
        "license_id                                                            0\n",
        "media_url             https://farm6.staticflickr.com/5558/1503442894...\n",
        "provider_name                                                    Flickr\n",
        "provider_url                                    https://www.flickr.com/\n",
        "thumbnail_height                                                     75\n",
        "thumbnail_url         https://farm6.staticflickr.com/5558/1503442894...\n",
        "thumbnail_width                                                      75\n",
        "title                                                             dirty\n",
        "type                                                              photo\n",
        "url                   https://www.flickr.com/photos/tonyfast/1503442...\n",
        "version                                                             1.0\n",
        "web_page              https://www.flickr.com/photos/tonyfast/1503442...\n",
        "web_page_short_url                             https://flic.kr/p/oUxnWc\n",
        "width                                                               640\n",
        "dtype: object\n"
       ]
      }
     ],
     "prompt_number": 9
    },
    {
     "cell_type": "markdown",
     "metadata": {},
     "source": [
      "## Variable History - Provenance"
     ]
    },
    {
     "cell_type": "code",
     "collapsed": false,
     "input": [
      "from urlparse import urlsplit\n",
      "\n",
      "url = 'https://github.com/Materials-Informatics-Lab/Materials-Informatics-Lab.github.io/blob/master/pages/informatics/reading.html'\n",
      "#history = rpages.github( url = url , service = 'history')\n",
      "\n",
      "parsed = urlsplit(url)\n",
      "\n",
      "\n",
      "out = list()\n",
      "for sha in history['sha']:    \n",
      "    newpath = parsed.path.replace('master',sha)\n",
      "    newparsed = parsed._replace( path = newpath )\n",
      "    data = rpages.github( url = newparsed.geturl(), service = 'fm' )\n",
      "    out.append( data )\n",
      "    \n",
      "print out"
     ],
     "language": "python",
     "metadata": {},
     "outputs": [
      {
       "output_type": "stream",
       "stream": "stdout",
       "text": [
        "[{'popular': [{'url': 'http://www.wired.com/2014/08/sciences-big-data-problem/', 'source': 'Wired', 'title': u'Science\\u2019s Big Data Problem'}, {'url': 'http://www.nytimes.com/2014/08/18/technology/for-big-data-scientists-hurdle-to-insights-is-janitor-work.html?_r=0', 'source': 'The New York Times', 'title': u'For Big-Data Scientists, \\u2018Janitor Work\\u2019 Is Key Hurdle to Insights'}, {'url': 'http://www.scientificamerican.com/article/how-supercomputers-will-yield-a-golden-age-of-materials-science/', 'source': 'Scientific American', 'title': 'How Supercomputers Will Yield a Golden Age of Materials Science'}, {'url': 'http://www.nature.com/nbt/journal/v31/n11/full/nbt.2740.html', 'source': 'Nature', 'title': 'So you want to be a computational biologist?'}, {'url': 'http://data-informed.com/soft-skills-matter-data-science/', 'source': 'Data Informed', 'title': 'Why Soft Skills Matter in Data Science'}, {'url': 'http://diveintohtml5.info', 'title': 'Dive Into HTML5'}], 'permalink': '/reads/', 'materials': [{'url': 'http://link.springer.com/article/10.1007/s11837-014-1078-9', 'source': 'The Minerals, Metals & Materials Society', 'title': 'New TMS Study Tackles the Challenge of Integrating Materials Simulations Across Length Scales'}, {'url': 'http://nist.gov/mgi/upload/NIST-IR-7898.pdf', 'source': 'National Institute of Standards and Technology', 'title': 'Materials Genome Initiative White Paper'}, {'url': 'http://www.sciencedirect.com/science/article/pii/S0749641910000306', 'source': 'International Journal of Plasticity', 'title': 'A perspective on trends in multiscale plasticity'}, {'url': 'http://download.springer.com/static/pdf/674/art%253A10.1007%252Fs11837-011-0057-7.pdf', 'source': 'Journal of Materials', 'title': 'Microstructure Informatics Using Higher-Order Spatial Correlations and Efficient Data-Mining Protocols'}], 'layout': 'page', 'title': 'Materials Informatics Buzz'}, {'popular': [{'url': 'http://www.wired.com/2014/08/sciences-big-data-problem/', 'source': 'Wired', 'title': u'Science\\u2019s Big Data Problem'}, {'url': 'http://www.nytimes.com/2014/08/18/technology/for-big-data-scientists-hurdle-to-insights-is-janitor-work.html?_r=0', 'source': 'The New York Times', 'title': u'For Big-Data Scientists, \\u2018Janitor Work\\u2019 Is Key Hurdle to Insights'}, {'url': 'http://www.scientificamerican.com/article/how-supercomputers-will-yield-a-golden-age-of-materials-science/', 'source': 'Scientific American', 'title': 'How Supercomputers Will Yield a Golden Age of Materials Science'}, {'url': 'http://www.nature.com/nbt/journal/v31/n11/full/nbt.2740.html', 'source': 'Nature', 'title': 'So you want to be a computational biologist?'}, {'url': 'http://data-informed.com/soft-skills-matter-data-science/', 'source': 'Data Informed', 'title': 'Why Soft Skills Matter in Data Science'}, {'url': 'http://diveintohtml5.info', 'title': 'Dive Into HTML5'}], 'permalink': '/reads/', 'materials': [{'url': 'http://link.springer.com/article/10.1007/s11837-014-1078-9', 'source': 'The Minerals, Metals & Materials Society', 'title': 'New TMS Study Tackles the Challenge of Integrating Materials Simulations Across Length Scales'}, {'url': 'http://nist.gov/mgi/upload/NIST-IR-7898.pdf', 'source': 'National Institute of Standards and Technology', 'title': 'Materials Genome Initiative White Paper'}, {'url': 'http://www.sciencedirect.com/science/article/pii/S0749641910000306', 'source': 'International Journal of Plasticity', 'title': 'A perspective on trends in multiscale plasticity'}, {'url': 'http://download.springer.com/static/pdf/674/art%253A10.1007%252Fs11837-011-0057-7.pdf', 'source': 'Journal of Materials', 'title': 'Microstructure Informatics Using Higher-Order Spatial Correlations and Efficient Data-Mining Protocols'}], 'layout': 'page', 'title': 'Materials Informatics Buzz'}]\n"
       ]
      }
     ],
     "prompt_number": 32
    },
    {
     "cell_type": "code",
     "collapsed": false,
     "input": [],
     "language": "python",
     "metadata": {},
     "outputs": []
    }
   ],
   "metadata": {}
  }
 ]
}